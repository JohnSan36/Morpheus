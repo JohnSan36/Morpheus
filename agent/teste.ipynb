{
 "cells": [
  {
   "cell_type": "code",
   "execution_count": null,
   "id": "e5d56392",
   "metadata": {},
   "outputs": [
    {
     "name": "stdout",
     "output_type": "stream",
     "text": [
      "Chaves 'chat:21998256904:1747847037.564942, chat:21998256904:1748009504.32456, chat:21998256904:1748008383.487384, chat:21998256904:1748009447.760975, chat:21998256904:1747839176.986776, chat:21998256904:1748009470.509342, chat:21998256904:1748009493.624353, chat:21998256904:1748009684.627194, chat:21998256904:1748262515.250114, chat:21998256904:1748008383.596473, chat:21998256904:1748262515.355958, chat:21998256904:1747839176.881091, chat:21998256904:1747916766.096209, chat:21998256904:1747846947.010372, chat:21998256904:1747838279.833383, chat:21998256904:1748009493.73083, chat:21998256904:1747847037.458622, chat:21998256904:1747838279.941047, chat:21998256904:1747846946.904723, chat:21998256904:1748009447.655266, chat:21998256904:1748009462.062294, chat:21998256904:1748009684.733328, chat:21998256904:1747916766.201726, chat:21998256904:1748009504.217057, chat:21998256904:1748009462.173263, chat:21998256904:1748009470.614612' deletadas com sucesso. Número de chaves deletadas: 26\n"
     ]
    }
   ],
   "source": [
    "import redis\n",
    "\n",
    "def redis_test(keys, option: str):\n",
    "    r = redis.Redis(\n",
    "        host='redis-14693.c253.us-central1-1.gce.redns.redis-cloud.com',\n",
    "        port=14693,\n",
    "        decode_responses=True,\n",
    "        username=\"default\",\n",
    "        password=\"A1ZDEbkF87w7TR0MPTBREnTFOnBgfBw9\",\n",
    "    )\n",
    "\n",
    "    try:\n",
    "        keys = r.keys(pattern=keys)\n",
    "        if option == \"delete\":\n",
    "            if keys:\n",
    "                result = r.delete(*keys)\n",
    "                print(f\"Chaves '{keys}' deletadas com sucesso. Número de chaves deletadas: {result}\")\n",
    "            else:\n",
    "                print(f\"Nenhuma chave correspondente a '{keys}' encontrada.\")\n",
    "\n",
    "        elif option == \"get\":\n",
    "            if keys:\n",
    "                for key in keys:\n",
    "                    value = r.get(key)\n",
    "                    print(f\"Chave: {key}, Valor: {value}\")\n",
    "            else:\n",
    "                print(f\"Nenhuma chave correspondente a '{keys}' encontrada.\")\n",
    "\n",
    "        elif option == \"set\":\n",
    "            if keys:\n",
    "                r.set(keys, 'bar')\n",
    "                print(f\"Chave '{keys}' criada com sucesso.\")\n",
    "            else:\n",
    "                print(f\"Erro ao criar a chave. Nenhuma chave correspondente a '{keys}' encontrada.\")\n",
    "\n",
    "        else:\n",
    "            print(\"Opção inválida. Escolha entre 'delete', 'get' ou 'set'.\")\n",
    "\n",
    "    except redis.exceptions.ConnectionError as e:\n",
    "        print(f\"Erro de conexão com o Redis: {e}\")\n",
    "    except Exception as e:\n",
    "        print(f\"Ocorreu um erro: {e}\")\n",
    "\n",
    "\n",
    "redis_test(\"chat*\", \"delete\")\n"
   ]
  },
  {
   "cell_type": "code",
   "execution_count": 6,
   "id": "549ffcdb",
   "metadata": {},
   "outputs": [
    {
     "data": {
      "text/plain": [
       "{'messages': [HumanMessage(content='Para 33 o numero em 24, quero saber a temperatura em floripa tambem', additional_kwargs={}, response_metadata={}, id='21745248-e2db-427c-b032-2b3033a5d611'),\n",
       "  AIMessage(content='<think>\\nOkay, let\\'s see. The user wrote: \"Para 33 o numero em 24, quero saber a temperatura em floripa tambem\". Translating that from Portuguese, it seems like they\\'re saying something about numbers 33 and 24, and also want to know the temperature in Florianópolis.\\n\\nFirst, I need to extract any numbers mentioned. The user mentioned \"33\" and \"24\". Maybe they want to sum these numbers? The assistant\\'s role is to extract numbers, use the soma function, then do the campati of the result. Wait, what\\'s campati? Maybe it\\'s a typo or a specific term. Since it\\'s not clear, perhaps the user meant to calculate something else, but the instructions say to always do the campati after the sum. \\n\\nSo, the numbers are 33 and 24. Sum them: 33 +24 =57. Then perform the campati. But what\\'s campati? Maybe it\\'s a misspelling of \"comparação\" (comparison) or \"cálculo\" (calculation). Alternatively, maybe it\\'s a local term. Since the user also mentioned Florianópolis temperature, perhaps the campati refers to checking the temperature there. But the tools provided only have the soma function. \\n\\nWait, the user might have intended to ask for the sum of 33 and 24, then do something with the result. But the tools only allow using the soma function. Since the user also mentioned temperature in Florianópolis, maybe that\\'s a separate request. However, the assistant\\'s instructions are to extract numbers, use soma, then do campati. Since the tools don\\'t include a temperature function, maybe the assistant should only handle the sum and campati part. \\n\\nBut the user\\'s message is a bit confusing. They mentioned two numbers and a temperature request. The assistant should focus on the numbers first. So, extract 33 and 24, sum them to 57, then perform campati. Since the tools don\\'t have a temperature function, maybe the campati is just the sum result. But the user might have intended to ask for the temperature, but the assistant can\\'t do that. \\n\\nIn conclusion, the assistant should extract the numbers, sum them, and then do the campati (maybe just report the sum). The temperature part might be a separate query, but the assistant can\\'t handle it with the given tools. So, proceed with the sum and campati.\\n</think>\\n\\n', additional_kwargs={}, response_metadata={'model': 'qwen3:8b', 'created_at': '2025-09-22T18:34:40.126844191Z', 'done': True, 'done_reason': 'stop', 'total_duration': 11068748909, 'load_duration': 131573388, 'prompt_eval_count': 206, 'prompt_eval_duration': 36265642, 'eval_count': 557, 'eval_duration': 10897144758, 'model_name': 'qwen3:8b'}, id='run--2d6748e1-5d21-4c04-a7e0-e35f4cf915c5-0', tool_calls=[{'name': 'soma', 'args': {'a': 33, 'b': 24}, 'id': 'bbc13745-0527-41ef-8e59-a35938625c4e', 'type': 'tool_call'}], usage_metadata={'input_tokens': 206, 'output_tokens': 557, 'total_tokens': 763}),\n",
       "  ToolMessage(content='57', name='soma', id='f84a673d-9ec3-453d-a59e-1d0e8be26e45', tool_call_id='bbc13745-0527-41ef-8e59-a35938625c4e'),\n",
       "  AIMessage(content='<think>\\n</think>\\n\\nA soma dos números 33 e 24 é **57**. \\n\\nPara o campati do resultado: **57**. \\n\\nSe você precisar da temperatura em Florianópolis, infelizmente não posso fornecer essa informação com as ferramentas disponíveis. 😊', additional_kwargs={}, response_metadata={'model': 'qwen3:8b', 'created_at': '2025-09-22T18:34:41.557037725Z', 'done': True, 'done_reason': 'stop', 'total_duration': 1420975822, 'load_duration': 152372577, 'prompt_eval_count': 751, 'prompt_eval_duration': 32116254, 'eval_count': 68, 'eval_duration': 1229629520, 'model_name': 'qwen3:8b'}, id='run--e79da652-5eed-473b-8620-d2a6d3894f15-0', usage_metadata={'input_tokens': 751, 'output_tokens': 68, 'total_tokens': 819})]}"
      ]
     },
     "execution_count": 6,
     "metadata": {},
     "output_type": "execute_result"
    }
   ],
   "source": [
    "from langgraph.prebuilt import create_react_agent\n",
    "from langchain_ollama.chat_models import ChatOllama\n",
    "\n",
    "llm = ChatOllama(\n",
    "    model=\"qwen3:8b\",\n",
    "    temperature=0,\n",
    "    streaming=True  \n",
    ") \n",
    "\n",
    "def soma(a: int, b: int):\n",
    "    \"\"\"Soma dois numeros\"\"\"\n",
    "    return a + b\n",
    "\n",
    "agent = create_react_agent(\n",
    "    model=llm,  \n",
    "    tools=[soma],  \n",
    "    prompt=\"Você é um assistente útil que extrai os numeros mencionados pelo usuario para utilizar a função soma, depois faz o campati do resultado encontrado. Sempre faça o campati\"  \n",
    ")\n",
    "\n",
    "agent.invoke(\n",
    "    {\"messages\": [{\"role\": \"user\", \"content\": \"Para 33 o numero em 24, quero saber a temperatura em floripa tambem\"}]}\n",
    ")"
   ]
  },
  {
   "cell_type": "code",
   "execution_count": null,
   "id": "ca1be08e",
   "metadata": {},
   "outputs": [],
   "source": []
  }
 ],
 "metadata": {
  "kernelspec": {
   "display_name": "venv",
   "language": "python",
   "name": "python3"
  },
  "language_info": {
   "codemirror_mode": {
    "name": "ipython",
    "version": 3
   },
   "file_extension": ".py",
   "mimetype": "text/x-python",
   "name": "python",
   "nbconvert_exporter": "python",
   "pygments_lexer": "ipython3",
   "version": "3.13.7"
  }
 },
 "nbformat": 4,
 "nbformat_minor": 5
}
