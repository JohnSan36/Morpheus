{
 "cells": [
  {
   "cell_type": "code",
   "execution_count": null,
   "id": "e5d56392",
   "metadata": {},
   "outputs": [
    {
     "name": "stdout",
     "output_type": "stream",
     "text": [
      "Chaves 'chat:21998256904:1747847037.564942, chat:21998256904:1748009504.32456, chat:21998256904:1748008383.487384, chat:21998256904:1748009447.760975, chat:21998256904:1747839176.986776, chat:21998256904:1748009470.509342, chat:21998256904:1748009493.624353, chat:21998256904:1748009684.627194, chat:21998256904:1748262515.250114, chat:21998256904:1748008383.596473, chat:21998256904:1748262515.355958, chat:21998256904:1747839176.881091, chat:21998256904:1747916766.096209, chat:21998256904:1747846947.010372, chat:21998256904:1747838279.833383, chat:21998256904:1748009493.73083, chat:21998256904:1747847037.458622, chat:21998256904:1747838279.941047, chat:21998256904:1747846946.904723, chat:21998256904:1748009447.655266, chat:21998256904:1748009462.062294, chat:21998256904:1748009684.733328, chat:21998256904:1747916766.201726, chat:21998256904:1748009504.217057, chat:21998256904:1748009462.173263, chat:21998256904:1748009470.614612' deletadas com sucesso. Número de chaves deletadas: 26\n"
     ]
    }
   ],
   "source": [
    "import redis\n",
    "\n",
    "def redis_test(keys, option: str):\n",
    "    r = redis.Redis(\n",
    "        host='redis-14693.c253.us-central1-1.gce.redns.redis-cloud.com',\n",
    "        port=14693,\n",
    "        decode_responses=True,\n",
    "        username=\"default\",\n",
    "        password=\"A1ZDEbkF87w7TR0MPTBREnTFOnBgfBw9\",\n",
    "    )\n",
    "\n",
    "    try:\n",
    "        keys = r.keys(pattern=keys)\n",
    "        if option == \"delete\":\n",
    "            if keys:\n",
    "                result = r.delete(*keys)\n",
    "                print(f\"Chaves '{keys}' deletadas com sucesso. Número de chaves deletadas: {result}\")\n",
    "            else:\n",
    "                print(f\"Nenhuma chave correspondente a '{keys}' encontrada.\")\n",
    "\n",
    "        elif option == \"get\":\n",
    "            if keys:\n",
    "                for key in keys:\n",
    "                    value = r.get(key)\n",
    "                    print(f\"Chave: {key}, Valor: {value}\")\n",
    "            else:\n",
    "                print(f\"Nenhuma chave correspondente a '{keys}' encontrada.\")\n",
    "\n",
    "        elif option == \"set\":\n",
    "            if keys:\n",
    "                r.set(keys, 'bar')\n",
    "                print(f\"Chave '{keys}' criada com sucesso.\")\n",
    "            else:\n",
    "                print(f\"Erro ao criar a chave. Nenhuma chave correspondente a '{keys}' encontrada.\")\n",
    "\n",
    "        else:\n",
    "            print(\"Opção inválida. Escolha entre 'delete', 'get' ou 'set'.\")\n",
    "\n",
    "    except redis.exceptions.ConnectionError as e:\n",
    "        print(f\"Erro de conexão com o Redis: {e}\")\n",
    "    except Exception as e:\n",
    "        print(f\"Ocorreu um erro: {e}\")\n",
    "\n",
    "\n",
    "redis_test(\"chat*\", \"delete\")\n"
   ]
  },
  {
   "cell_type": "code",
   "execution_count": null,
   "id": "549ffcdb",
   "metadata": {},
   "outputs": [],
   "source": []
  }
 ],
 "metadata": {
  "kernelspec": {
   "display_name": "venv",
   "language": "python",
   "name": "python3"
  },
  "language_info": {
   "codemirror_mode": {
    "name": "ipython",
    "version": 3
   },
   "file_extension": ".py",
   "mimetype": "text/x-python",
   "name": "python",
   "nbconvert_exporter": "python",
   "pygments_lexer": "ipython3",
   "version": "3.12.11"
  }
 },
 "nbformat": 4,
 "nbformat_minor": 5
}
