{
 "cells": [
  {
   "cell_type": "code",
   "execution_count": 3,
   "metadata": {},
   "outputs": [
    {
     "name": "stderr",
     "output_type": "stream",
     "text": [
      "/tmp/ipykernel_22028/1745917292.py:56: DeprecationWarning: Substituting font arial by core font helvetica - This is deprecated since v2.7.8, and will soon be removed\n",
      "  pdf.set_font(\"Arial\", 'B', 16)\n",
      "/tmp/ipykernel_22028/1745917292.py:58: DeprecationWarning: Substituting font arial by core font helvetica - This is deprecated since v2.7.8, and will soon be removed\n",
      "  pdf.set_font(\"Arial\", 'I', 14)\n",
      "/tmp/ipykernel_22028/1745917292.py:60: DeprecationWarning: Substituting font arial by core font helvetica - This is deprecated since v2.7.8, and will soon be removed\n",
      "  pdf.set_font(\"Arial\", '', 12)\n"
     ]
    },
    {
     "data": {
      "text/plain": [
       "'..Liber_0_Manifesto_da_OHNA.pdf'"
      ]
     },
     "execution_count": 3,
     "metadata": {},
     "output_type": "execute_result"
    }
   ],
   "source": [
    "from fpdf import FPDF  # Corrigido para importar a classe FPDF corretamente\n",
    "\n",
    "# Criando o conteúdo do Liber 0-HN-A\n",
    "titulo = \"LIBER 0-HN-A\\n\"\n",
    "subtitulo = \"Manifesto da Ordem Hermética do Novo Aeon (O.H.N.A.)\\n\\n\"\n",
    "conteudo = \"\"\"\n",
    "“Construindo o Templo da Consciência Viva na Terra”\n",
    "\n",
    "I. DECLARAÇÃO DE MISSÃO\n",
    "A Ordem Hermética do Novo Aeon tem como missão despertar, alinhar e manifestar a Vontade Verdadeira em seus membros.\n",
    "Somos uma estrutura viva dedicada à integração entre ciência interior, magia consciente, engenharia espiritual e manifestação vibracional.\n",
    "\n",
    "II. FUNDAMENTOS\n",
    "- A Vontade é a única Lei.\n",
    "- Cada ser é uma estrela. Cada estrela possui uma órbita única.\n",
    "- Não adoramos deuses: nos tornamos canais do divino em ação.\n",
    "- Toda iniciação é uma ativação interior, não uma concessão externa.\n",
    "\n",
    "III. ARQUÉTIPOS GUIAS\n",
    "- Hermes Trismegisto: sabedoria eterna.\n",
    "- Hórus: a Criança Desperta.\n",
    "- Sophia: a Sabedoria Encarnada.\n",
    "- Melquisedeque: o Sacerdote do Fogo Vivo.\n",
    "\n",
    "IV. ESTRUTURA INICIÁTICA\n",
    "0º Profano – caos e desejo de despertar.\n",
    "Iº Neófito do Fogo Interno – purificação e primeiros rituais.\n",
    "IIº Filho do Vento Solar – alinhamento vibracional.\n",
    "IIIº Guardião do Labirinto – transmutação da sombra.\n",
    "IVº Construtor do Templo Vivo – estrutura aplicada.\n",
    "Vº Portador do Código Real – ativação do Self criador.\n",
    "VIº Mestre da Vontade Verdadeira – manifestação quântica.\n",
    "\n",
    "V. PRINCÍPIOS\n",
    "1. Toda prática é corpo do espírito.\n",
    "2. Toda missão é semente da Vontade.\n",
    "3. Todo iniciado é senhor do próprio caminho.\n",
    "\n",
    "VI. SELO VERBAL DA ORDEM\n",
    "“Eu Sou a Vontade Real encarnada em ação.”\n",
    "\n",
    "VII. CONVOCAÇÃO\n",
    "Esta ordem é viva, orgânica e iniciática.\n",
    "É fundada não por decreto, mas por decisão da Alma Desperta.\n",
    "Aquele que ler este Liber e ressoar com sua Verdade, já é iniciado em essência.\n",
    "\n",
    "Feito sob a Luz do Novo Aeon,\n",
    "Hermes Gabriel de Oliveira Santos\n",
    "Fundador da O.H.N.A.\n",
    "\"\"\"\n",
    "\n",
    "# Criando o PDF\n",
    "pdf = FPDF()\n",
    "pdf.add_page()\n",
    "pdf.set_auto_page_break(auto=True, margin=15)\n",
    "pdf.set_font(\"Arial\", 'B', 16)\n",
    "pdf.multi_cell(0, 10, titulo, align='C')\n",
    "pdf.set_font(\"Arial\", 'I', 14)\n",
    "pdf.multi_cell(0, 10, subtitulo, align='C')\n",
    "pdf.set_font(\"Arial\", '', 12)\n",
    "\n",
    "# Usando um método para garantir que o texto seja compatível com a codificação\n",
    "conteudo_unicode = conteudo.encode('latin-1', 'replace').decode('latin-1')\n",
    "pdf.multi_cell(0, 10, conteudo_unicode.strip())\n",
    "\n",
    "# Salvando o PDF\n",
    "output_path = \"..Liber_0_Manifesto_da_OHNA.pdf\"\n",
    "pdf.output(output_path)\n",
    "\n",
    "output_path\n"
   ]
  },
  {
   "cell_type": "code",
   "execution_count": null,
   "metadata": {},
   "outputs": [],
   "source": []
  }
 ],
 "metadata": {
  "kernelspec": {
   "display_name": "venv",
   "language": "python",
   "name": "python3"
  },
  "language_info": {
   "codemirror_mode": {
    "name": "ipython",
    "version": 3
   },
   "file_extension": ".py",
   "mimetype": "text/x-python",
   "name": "python",
   "nbconvert_exporter": "python",
   "pygments_lexer": "ipython3",
   "version": "3.13.3"
  }
 },
 "nbformat": 4,
 "nbformat_minor": 2
}
